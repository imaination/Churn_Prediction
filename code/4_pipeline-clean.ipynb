{
 "cells": [
  {
   "cell_type": "code",
   "execution_count": 1,
   "id": "f6cd5854",
   "metadata": {},
   "outputs": [],
   "source": [
    "# Get the training data\n",
    "# Clean/preprocess/transform the data\n",
    "# Train a machine learning model\n",
    "# Evaluate and optimise the model\n",
    "# Clean/preprocess/transform new data\n",
    "# Fit the model on new data to make predictions."
   ]
  },
  {
   "cell_type": "code",
   "execution_count": 2,
   "id": "636438b6",
   "metadata": {},
   "outputs": [],
   "source": [
    "import pandas as pd\n",
    "import numpy as np\n",
    "import load_data\n",
    "\n",
    "from sklearn.datasets import make_classification\n",
    "from sklearn.preprocessing import StandardScaler\n",
    "from sklearn.metrics import accuracy_score,classification_report,recall_score,confusion_matrix, roc_auc_score, precision_score, f1_score, roc_curve, auc, plot_confusion_matrix,plot_roc_curve\n",
    "from sklearn.preprocessing import StandardScaler, OrdinalEncoder, OneHotEncoder\n",
    "from sklearn.impute import SimpleImputer\n",
    "from sklearn.compose import ColumnTransformer\n",
    "from sklearn.preprocessing import Normalizer\n",
    "from sklearn import metrics\n",
    "\n",
    "from imblearn.pipeline import Pipeline\n",
    "from imblearn.over_sampling import SMOTE\n",
    "from imblearn.under_sampling import RandomUnderSampler\n",
    "from imblearn.over_sampling import RandomOverSampler\n",
    "\n",
    "# Import Libraries for Modelling\n",
    "from catboost import CatBoostClassifier\n",
    "from sklearn.linear_model import LogisticRegression\n",
    "from sklearn.tree import DecisionTreeClassifier\n",
    "\n",
    "\n",
    "# from imblearn.under_sampling import RandomUnderSampler\n",
    "# from sklearn.pipeline import Pipeline\n",
    "# from sklearn.base import BaseEstimator\n",
    "# from sklearn.model_selection import train_test_split\n",
    "# import imblearn\n",
    "# from collections import Counter\n",
    "\n",
    "pd.set_option('display.max_rows', 999)\n",
    "pd.set_option('display.max_columns', 999)"
   ]
  },
  {
   "cell_type": "code",
   "execution_count": 3,
   "id": "2e9a9787",
   "metadata": {},
   "outputs": [
    {
     "name": "stdout",
     "output_type": "stream",
     "text": [
      "file name: X_train_des\n",
      "file name: y_test_des\n",
      "file name: X_test_des\n",
      "file name: train_month_1\n",
      "file name: data_merged\n",
      "file name: train_month_2\n",
      "file name: y_val\n",
      "file name: X_train\n",
      "file name: X_val\n",
      "file name: test_month_1\n",
      "file name: test_month_3\n",
      "file name: y_train\n",
      "file name: test_month_2\n",
      "file name: y_train_des\n",
      "file name: train_month_3_with_target\n"
     ]
    }
   ],
   "source": [
    "#Load Data\n",
    "mypath = \"../data/\"\n",
    "mydata = load_data.get_file_names(mypath)\n",
    "data_files = load_data.load_copy_data(mydata, mypath)\n",
    "\n",
    "data = data_files['data_merged']\n",
    "X_train = data_files['X_train'].copy()\n",
    "X_val = data_files['X_val'].copy()\n",
    "y_train = data_files['y_train']['target'].copy()\n",
    "y_val = data_files['y_val']['target'].copy()"
   ]
  },
  {
   "cell_type": "code",
   "execution_count": 4,
   "id": "9e04e460",
   "metadata": {},
   "outputs": [],
   "source": [
    "# Features to preprocess\n",
    "\n",
    "# Features to drop\n",
    "drop_features = [\n",
    "    'Unnamed: 0',\n",
    "    'client_id', #ID not needed in the training data\n",
    "    'customer_postal_code_x',\n",
    "]\n",
    "\n",
    "# Duplicated Columns to drop\n",
    "dup_cols = data.T.duplicated().reset_index()\n",
    "dup_cols_list = dup_cols.loc[dup_cols[0], 'index'].tolist()\n",
    "drop_features.extend(dup_cols_list)\n",
    "# dup_cols_list\n",
    "\n",
    "# Categorical Features to Preprocess\n",
    "categorical_features = [\n",
    "    'customer_relationship', 'customer_relationship_y', 'customer_relationship_x', #unknown\n",
    "    'customer_occupation_code_x',\n",
    "    'customer_children', 'customer_children_y', 'customer_children_x',\n",
    "    'customer_gender_x',\n",
    "    'area_cat',\n",
    "    'customer_self_employed', 'customer_self_employed_y', 'customer_self_employed_x',\n",
    "    'visits_distinct_so', 'visits_distinct_so_y', 'visits_distinct_so_x',\n",
    "    'visits_distinct_so_areas', 'visits_distinct_so_areas_y', 'visits_distinct_so_areas_x',\n",
    "    'customer_education_x', #\n",
    "    'customer_relationship_x', 'customer_relationship_y', 'customer_relationship',#\n",
    "    'customer_children_x', 'customer_children_y', 'customer_children',\n",
    "    'homebanking_active', 'homebanking_active_y', 'homebanking_active_x',\n",
    "    'has_homebanking', 'has_homebanking_y', 'has_homebanking_x',\n",
    "    'has_insurance_21', 'has_insurance_21_y', 'has_insurance_21_x',\n",
    "    'has_insurance_23', 'has_insurance_23_y', 'has_insurance_23_x',\n",
    "    'has_life_insurance_fixed_cap', 'has_life_insurance_fixed_cap_y', 'has_life_insurance_fixed_cap_x',\n",
    "    'has_life_insurance_decreasing_cap', 'has_life_insurance_decreasing_cap_y', 'has_life_insurance_decreasing_cap_x',\n",
    "    'has_fire_car_other_insurance', 'has_fire_car_other_insurance_y', 'has_fire_car_other_insurance_x',\n",
    "    'has_personal_loan', 'has_personal_loan_y', 'has_personal_loan_x',\n",
    "    'has_mortgage_loan', 'has_mortgage_loan_y', 'has_mortgage_loan_x',\n",
    "    'has_current_account', 'has_current_account_y', 'has_current_account_x',\n",
    "    'has_pension_saving', 'has_pension_saving_y', 'has_pension_saving_x',\n",
    "    'has_savings_account', 'has_savings_account_y', 'has_savings_account_x',\n",
    "    'has_current_account_starter', 'has_current_account_starter_y', 'has_current_account_starter_x',\n",
    "    'has_savings_account_starter', 'has_savings_account_starter_y', 'has_savings_account_starter_x',\n",
    "]\n",
    "\n",
    "# Numerical Features to Preprocess\n",
    "numeric_features = [\n",
    "    'bal_insurance_21', 'bal_insurance_21_y', 'bal_insurance_21_x', \n",
    "    'bal_insurance_23', 'bal_insurance_23_y', 'bal_insurance_23_x',\n",
    "    'cap_life_insurance_fixed_cap', 'cap_life_insurance_fixed_cap_y', 'cap_life_insurance_fixed_cap_x',\n",
    "    'cap_life_insurance_decreasing_cap', 'cap_life_insurance_decreasing_cap_y', 'cap_life_insurance_decreasing_cap_x',\n",
    "    'prem_fire_car_other_insurance', 'prem_fire_car_other_insurance_y', 'prem_fire_car_other_insurance_x',\n",
    "    'bal_personal_loan', 'bal_personal_loan_y', 'bal_personal_loan_x',\n",
    "    'bal_mortgage_loan', 'bal_mortgage_loan_y', 'bal_mortgage_loan_x',\n",
    "    'bal_current_account', 'bal_current_account_y', 'bal_current_account_x',\n",
    "    'bal_pension_saving', 'bal_pension_saving_y', 'bal_pension_saving_x', \n",
    "    'bal_savings_account', 'bal_savings_account_y', 'bal_savings_account_x',\n",
    "    'bal_current_account_starter', 'bal_current_account_starter_y', 'bal_current_account_starter_x',\n",
    "    'bal_savings_account_starter', 'bal_savings_account_starter_y', 'bal_savings_account_starter_x',\n",
    "    'customer_since_all_x', 'customer_since_bank_x', 'customer_birth_date_x',\n",
    "]"
   ]
  },
  {
   "cell_type": "code",
   "execution_count": 5,
   "id": "f540a040",
   "metadata": {},
   "outputs": [],
   "source": [
    "# Replace NA with column mean, normalize numerical values\n",
    "numeric_transformer = Pipeline(steps=[\n",
    "    ('imputer', SimpleImputer(strategy='mean')),\n",
    "    ('normalize', Normalizer()),\n",
    "#     ('scaler', StandardScaler())\n",
    "])\n",
    "\n",
    "# Replace NA with column mode, encode categorical value to 0/1\n",
    "categorical_transformer = Pipeline(steps=[\n",
    "    ('imputer', SimpleImputer(strategy='most_frequent')),\n",
    "    ('encoder', OrdinalEncoder())\n",
    "])\n",
    "\n",
    "# Pre-process pipeline that drops unnecessary features, transforms numerical and categorical values\n",
    "preprocessor = ColumnTransformer(#remainder='passthrough',\n",
    "                                 transformers=[\n",
    "                                     ('drop_columns', 'drop', drop_features),\n",
    "                                     ('numeric', numeric_transformer, numeric_features),\n",
    "                                     ('categorical', categorical_transformer, categorical_features)\n",
    "                                ])\n",
    "\n",
    "# Setting remainder=’passthrough’ will mean that all columns not specified in the list of “transformers” \n",
    "# will be passed through without transformation, instead of being dropped."
   ]
  },
  {
   "cell_type": "code",
   "execution_count": 6,
   "id": "ba064d0b",
   "metadata": {},
   "outputs": [
    {
     "name": "stdout",
     "output_type": "stream",
     "text": [
      "Accuracy: 0.968\n",
      "Recall: 0.2\n",
      "ROC_AUC: 0.5918\n",
      "Precision: 0.2\n"
     ]
    }
   ],
   "source": [
    "# CatBoost \n",
    "pipeline = Pipeline(steps=[\n",
    "    ('preprocessor', preprocessor),\n",
    "#     ('oversample', SMOTE(sampling_strategy=0.4)),\n",
    "#     ('undersample', RandomUnderSampler(sampling_strategy=0.8)),\n",
    "    ('oversample', RandomOverSampler(sampling_strategy=0.5)),\n",
    "    ('catboost', CatBoostClassifier(verbose=False,random_state=0)),\n",
    "])\n",
    "\n",
    "pipeline.fit(X_train, y_train)\n",
    "\n",
    "# Evaluate Model\n",
    "y_pred = pipeline.predict(X_val)\n",
    "\n",
    "# Top 250 Evaluation\n",
    "print(f'Accuracy: {round(accuracy_score(y_val[:250], y_pred[:250]),4)}')\n",
    "print(f'Recall: {round(recall_score(y_val[:250], y_pred[:250]),4)}')\n",
    "print(f'ROC_AUC: {round(roc_auc_score(y_val[:250], y_pred[:250]),4)}')\n",
    "print(f'Precision: {round(precision_score(y_val[:250], y_pred[:250]),4)}')"
   ]
  },
  {
   "cell_type": "code",
   "execution_count": 7,
   "id": "f66d8943",
   "metadata": {},
   "outputs": [
    {
     "name": "stdout",
     "output_type": "stream",
     "text": [
      "Accuracy: 0.852\n",
      "Recall: 0.0\n",
      "ROC_AUC: 0.4347\n",
      "Precision: 0.0\n"
     ]
    }
   ],
   "source": [
    "#DecisionTree\n",
    "\n",
    "pipeline_dt = Pipeline(steps=[\n",
    "    ('preprocessor', preprocessor),\n",
    "    ('oversample', SMOTE(sampling_strategy=0.1)),\n",
    "    ('undersample', RandomUnderSampler(sampling_strategy=0.5)),\n",
    "    ('DecisionTree', DecisionTreeClassifier()),\n",
    "])\n",
    "\n",
    "pipeline_dt.fit(X_train, y_train)\n",
    "\n",
    "# Evaluate Model\n",
    "y_pred_dt = pipeline_dt.predict(X_val)\n",
    "\n",
    "# Top 250 Evaluation\n",
    "print(f'Accuracy: {round(accuracy_score(y_val[:250], y_pred_dt[:250]),4)}')\n",
    "print(f'Recall: {round(recall_score(y_val[:250], y_pred_dt[:250]),4)}')\n",
    "print(f'ROC_AUC: {round(roc_auc_score(y_val[:250], y_pred_dt[:250]),4)}')\n",
    "print(f'Precision: {round(precision_score(y_val[:250], y_pred_dt[:250]),4)}')"
   ]
  },
  {
   "cell_type": "code",
   "execution_count": 8,
   "id": "e2efb43e",
   "metadata": {},
   "outputs": [
    {
     "name": "stdout",
     "output_type": "stream",
     "text": [
      "Accuracy: 0.904\n",
      "Recall: 0.2\n",
      "ROC_AUC: 0.5592\n",
      "Precision: 0.0476\n"
     ]
    },
    {
     "name": "stderr",
     "output_type": "stream",
     "text": [
      "/opt/anaconda3/envs/aa_2022/lib/python3.9/site-packages/sklearn/linear_model/_logistic.py:814: ConvergenceWarning: lbfgs failed to converge (status=1):\n",
      "STOP: TOTAL NO. of ITERATIONS REACHED LIMIT.\n",
      "\n",
      "Increase the number of iterations (max_iter) or scale the data as shown in:\n",
      "    https://scikit-learn.org/stable/modules/preprocessing.html\n",
      "Please also refer to the documentation for alternative solver options:\n",
      "    https://scikit-learn.org/stable/modules/linear_model.html#logistic-regression\n",
      "  n_iter_i = _check_optimize_result(\n"
     ]
    }
   ],
   "source": [
    "#Logistic\n",
    "\n",
    "pipeline_log = Pipeline(steps=[\n",
    "    ('preprocessor', preprocessor),\n",
    "    ('oversample', SMOTE(sampling_strategy=0.1)),\n",
    "    ('undersample', RandomUnderSampler(sampling_strategy=0.5)),\n",
    "    ('Logistic', LogisticRegression(random_state=0)),\n",
    "])\n",
    "\n",
    "pipeline_log.fit(X_train, y_train)\n",
    "\n",
    "# Evaluate Model\n",
    "y_pred_log = pipeline_log.predict(X_val)\n",
    "\n",
    "# Top 250 Evaluation\n",
    "print(f'Accuracy: {round(accuracy_score(y_val[:250], y_pred_log[:250]),4)}')\n",
    "print(f'Recall: {round(recall_score(y_val[:250], y_pred_log[:250]),4)}')\n",
    "print(f'ROC_AUC: {round(roc_auc_score(y_val[:250], y_pred_log[:250]),4)}')\n",
    "print(f'Precision: {round(precision_score(y_val[:250], y_pred_log[:250]),4)}')"
   ]
  }
 ],
 "metadata": {
  "kernelspec": {
   "display_name": "Python 3 (ipykernel)",
   "language": "python",
   "name": "python3"
  },
  "language_info": {
   "codemirror_mode": {
    "name": "ipython",
    "version": 3
   },
   "file_extension": ".py",
   "mimetype": "text/x-python",
   "name": "python",
   "nbconvert_exporter": "python",
   "pygments_lexer": "ipython3",
   "version": "3.9.5"
  },
  "toc": {
   "base_numbering": 1,
   "nav_menu": {},
   "number_sections": true,
   "sideBar": true,
   "skip_h1_title": false,
   "title_cell": "Table of Contents",
   "title_sidebar": "Contents",
   "toc_cell": false,
   "toc_position": {},
   "toc_section_display": true,
   "toc_window_display": false
  },
  "varInspector": {
   "cols": {
    "lenName": 16,
    "lenType": 16,
    "lenVar": 40
   },
   "kernels_config": {
    "python": {
     "delete_cmd_postfix": "",
     "delete_cmd_prefix": "del ",
     "library": "var_list.py",
     "varRefreshCmd": "print(var_dic_list())"
    },
    "r": {
     "delete_cmd_postfix": ") ",
     "delete_cmd_prefix": "rm(",
     "library": "var_list.r",
     "varRefreshCmd": "cat(var_dic_list()) "
    }
   },
   "types_to_exclude": [
    "module",
    "function",
    "builtin_function_or_method",
    "instance",
    "_Feature"
   ],
   "window_display": false
  }
 },
 "nbformat": 4,
 "nbformat_minor": 5
}
