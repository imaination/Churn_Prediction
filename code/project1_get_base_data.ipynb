{
 "cells": [
  {
   "cell_type": "code",
   "execution_count": 1,
   "id": "popular-junior",
   "metadata": {},
   "outputs": [],
   "source": [
    "#Import Libraries\n",
    "import pandas as pd\n",
    "import load_data\n",
    "from sklearn.model_selection import train_test_split"
   ]
  },
  {
   "cell_type": "code",
   "execution_count": 3,
   "id": "b3951b5a",
   "metadata": {},
   "outputs": [
    {
     "name": "stdout",
     "output_type": "stream",
     "text": [
      "file name: train_month_1\n",
      "file name: train_month_2\n",
      "file name: test_month_1\n",
      "file name: test_month_3\n",
      "file name: test_month_2\n",
      "file name: train_month_3_with_target\n"
     ]
    },
    {
     "data": {
      "text/plain": [
       "dict_keys(['train_month_1', 'train_month_2', 'test_month_1', 'test_month_3', 'test_month_2', 'train_month_3_with_target'])"
      ]
     },
     "execution_count": 3,
     "metadata": {},
     "output_type": "execute_result"
    }
   ],
   "source": [
    "#Load Data\n",
    "mypath = \"../data/\"\n",
    "mydata = load_data.get_file_names(mypath)\n",
    "df = load_data.load_copy_data(mydata, mypath)\n",
    "df.keys()"
   ]
  },
  {
   "cell_type": "code",
   "execution_count": 4,
   "id": "672d7de9",
   "metadata": {},
   "outputs": [
    {
     "name": "stdout",
     "output_type": "stream",
     "text": [
      "We have 63697 rows and 39 columns in our month 1 training dataset.\n",
      "We have 63697 rows and 39 columns in our month 2 training dataset.\n",
      "We have 63697 rows and 40 columns in month 3 training dataset.\n"
     ]
    }
   ],
   "source": [
    "#Check dimension of data\n",
    "print(f\"We have {df['train_month_1'].shape[0]} rows and {df['train_month_1'].shape[1]} columns in our month 1 training dataset.\")\n",
    "print(f\"We have {df['train_month_2'].shape[0]} rows and {df['train_month_2'].shape[1]} columns in our month 2 training dataset.\")\n",
    "print(f\"We have {df['train_month_3_with_target'].shape[0]} rows and {df['train_month_3_with_target'].shape[1]} columns in month 3 training dataset.\")"
   ]
  },
  {
   "cell_type": "code",
   "execution_count": 5,
   "id": "4f0fd783",
   "metadata": {},
   "outputs": [
    {
     "name": "stdout",
     "output_type": "stream",
     "text": [
      "We have 0 duplicated rows in our month 1 training dataset.\n",
      "We have 0 duplicated rows in our month 2 training dataset.\n",
      "We have 0 duplicated rows in our month 3 training dataset.\n"
     ]
    }
   ],
   "source": [
    "#Look for duplicated rows\n",
    "print(f\"We have {df['train_month_1'].duplicated().sum()} duplicated rows in our month 1 training dataset.\")\n",
    "print(f\"We have {df['train_month_2'].duplicated().sum()} duplicated rows in our month 2 training dataset.\")\n",
    "print(f\"We have {df['train_month_3_with_target'].duplicated().sum()} duplicated rows in our month 3 training dataset.\")"
   ]
  },
  {
   "cell_type": "code",
   "execution_count": 6,
   "id": "41a9399b",
   "metadata": {},
   "outputs": [
    {
     "data": {
      "text/html": [
       "<div>\n",
       "<style scoped>\n",
       "    .dataframe tbody tr th:only-of-type {\n",
       "        vertical-align: middle;\n",
       "    }\n",
       "\n",
       "    .dataframe tbody tr th {\n",
       "        vertical-align: top;\n",
       "    }\n",
       "\n",
       "    .dataframe thead th {\n",
       "        text-align: right;\n",
       "    }\n",
       "</style>\n",
       "<table border=\"1\" class=\"dataframe\">\n",
       "  <thead>\n",
       "    <tr style=\"text-align: right;\">\n",
       "      <th></th>\n",
       "      <th>client_id</th>\n",
       "      <th>homebanking_active</th>\n",
       "      <th>has_homebanking</th>\n",
       "      <th>has_insurance_21</th>\n",
       "      <th>has_insurance_23</th>\n",
       "      <th>has_life_insurance_fixed_cap</th>\n",
       "      <th>has_life_insurance_decreasing_cap</th>\n",
       "      <th>has_fire_car_other_insurance</th>\n",
       "      <th>has_personal_loan</th>\n",
       "      <th>has_mortgage_loan</th>\n",
       "      <th>...</th>\n",
       "      <th>customer_since_all</th>\n",
       "      <th>customer_since_bank</th>\n",
       "      <th>customer_gender</th>\n",
       "      <th>customer_birth_date</th>\n",
       "      <th>customer_postal_code</th>\n",
       "      <th>customer_occupation_code</th>\n",
       "      <th>customer_self_employed</th>\n",
       "      <th>customer_education</th>\n",
       "      <th>customer_children</th>\n",
       "      <th>customer_relationship</th>\n",
       "    </tr>\n",
       "  </thead>\n",
       "  <tbody>\n",
       "    <tr>\n",
       "      <th>0</th>\n",
       "      <td>910df42ad36243aa4ce16324cd7b15b0</td>\n",
       "      <td>0</td>\n",
       "      <td>0</td>\n",
       "      <td>0</td>\n",
       "      <td>0</td>\n",
       "      <td>0</td>\n",
       "      <td>0</td>\n",
       "      <td>1</td>\n",
       "      <td>0</td>\n",
       "      <td>0</td>\n",
       "      <td>...</td>\n",
       "      <td>1983-03</td>\n",
       "      <td>1994-08</td>\n",
       "      <td>1</td>\n",
       "      <td>1943-09</td>\n",
       "      <td>3630</td>\n",
       "      <td>9.0</td>\n",
       "      <td>0</td>\n",
       "      <td>0.0</td>\n",
       "      <td>NaN</td>\n",
       "      <td>NaN</td>\n",
       "    </tr>\n",
       "    <tr>\n",
       "      <th>1</th>\n",
       "      <td>4e19dc3a54323c5bbfc374664b950cd1</td>\n",
       "      <td>1</td>\n",
       "      <td>1</td>\n",
       "      <td>0</td>\n",
       "      <td>0</td>\n",
       "      <td>0</td>\n",
       "      <td>0</td>\n",
       "      <td>0</td>\n",
       "      <td>0</td>\n",
       "      <td>0</td>\n",
       "      <td>...</td>\n",
       "      <td>2017-01</td>\n",
       "      <td>2017-01</td>\n",
       "      <td>1</td>\n",
       "      <td>1994-02</td>\n",
       "      <td>2460</td>\n",
       "      <td>9.0</td>\n",
       "      <td>0</td>\n",
       "      <td>NaN</td>\n",
       "      <td>mature</td>\n",
       "      <td>couple</td>\n",
       "    </tr>\n",
       "    <tr>\n",
       "      <th>2</th>\n",
       "      <td>f5d08db1b86c0cb0f566bf446cff1fb4</td>\n",
       "      <td>1</td>\n",
       "      <td>1</td>\n",
       "      <td>0</td>\n",
       "      <td>0</td>\n",
       "      <td>0</td>\n",
       "      <td>0</td>\n",
       "      <td>1</td>\n",
       "      <td>0</td>\n",
       "      <td>0</td>\n",
       "      <td>...</td>\n",
       "      <td>1980-12</td>\n",
       "      <td>1980-12</td>\n",
       "      <td>2</td>\n",
       "      <td>1936-10</td>\n",
       "      <td>2660</td>\n",
       "      <td>9.0</td>\n",
       "      <td>0</td>\n",
       "      <td>NaN</td>\n",
       "      <td>NaN</td>\n",
       "      <td>single</td>\n",
       "    </tr>\n",
       "    <tr>\n",
       "      <th>3</th>\n",
       "      <td>26170ecf63653e215c52f4262c1c4859</td>\n",
       "      <td>0</td>\n",
       "      <td>0</td>\n",
       "      <td>0</td>\n",
       "      <td>0</td>\n",
       "      <td>0</td>\n",
       "      <td>0</td>\n",
       "      <td>1</td>\n",
       "      <td>0</td>\n",
       "      <td>0</td>\n",
       "      <td>...</td>\n",
       "      <td>1998-08</td>\n",
       "      <td>2013-10</td>\n",
       "      <td>1</td>\n",
       "      <td>1946-09</td>\n",
       "      <td>6600</td>\n",
       "      <td>9.0</td>\n",
       "      <td>0</td>\n",
       "      <td>NaN</td>\n",
       "      <td>NaN</td>\n",
       "      <td>NaN</td>\n",
       "    </tr>\n",
       "    <tr>\n",
       "      <th>4</th>\n",
       "      <td>c078009957dffb64f20e61b41220a976</td>\n",
       "      <td>0</td>\n",
       "      <td>0</td>\n",
       "      <td>0</td>\n",
       "      <td>0</td>\n",
       "      <td>0</td>\n",
       "      <td>0</td>\n",
       "      <td>0</td>\n",
       "      <td>0</td>\n",
       "      <td>0</td>\n",
       "      <td>...</td>\n",
       "      <td>2012-11</td>\n",
       "      <td>2012-11</td>\n",
       "      <td>2</td>\n",
       "      <td>1996-04</td>\n",
       "      <td>8550</td>\n",
       "      <td>9.0</td>\n",
       "      <td>0</td>\n",
       "      <td>NaN</td>\n",
       "      <td>mature</td>\n",
       "      <td>couple</td>\n",
       "    </tr>\n",
       "  </tbody>\n",
       "</table>\n",
       "<p>5 rows × 39 columns</p>\n",
       "</div>"
      ],
      "text/plain": [
       "                          client_id  homebanking_active  has_homebanking  \\\n",
       "0  910df42ad36243aa4ce16324cd7b15b0                   0                0   \n",
       "1  4e19dc3a54323c5bbfc374664b950cd1                   1                1   \n",
       "2  f5d08db1b86c0cb0f566bf446cff1fb4                   1                1   \n",
       "3  26170ecf63653e215c52f4262c1c4859                   0                0   \n",
       "4  c078009957dffb64f20e61b41220a976                   0                0   \n",
       "\n",
       "   has_insurance_21  has_insurance_23  has_life_insurance_fixed_cap  \\\n",
       "0                 0                 0                             0   \n",
       "1                 0                 0                             0   \n",
       "2                 0                 0                             0   \n",
       "3                 0                 0                             0   \n",
       "4                 0                 0                             0   \n",
       "\n",
       "   has_life_insurance_decreasing_cap  has_fire_car_other_insurance  \\\n",
       "0                                  0                             1   \n",
       "1                                  0                             0   \n",
       "2                                  0                             1   \n",
       "3                                  0                             1   \n",
       "4                                  0                             0   \n",
       "\n",
       "   has_personal_loan  has_mortgage_loan  ...  customer_since_all  \\\n",
       "0                  0                  0  ...             1983-03   \n",
       "1                  0                  0  ...             2017-01   \n",
       "2                  0                  0  ...             1980-12   \n",
       "3                  0                  0  ...             1998-08   \n",
       "4                  0                  0  ...             2012-11   \n",
       "\n",
       "   customer_since_bank  customer_gender  customer_birth_date  \\\n",
       "0              1994-08                1              1943-09   \n",
       "1              2017-01                1              1994-02   \n",
       "2              1980-12                2              1936-10   \n",
       "3              2013-10                1              1946-09   \n",
       "4              2012-11                2              1996-04   \n",
       "\n",
       "   customer_postal_code  customer_occupation_code  customer_self_employed  \\\n",
       "0                  3630                       9.0                       0   \n",
       "1                  2460                       9.0                       0   \n",
       "2                  2660                       9.0                       0   \n",
       "3                  6600                       9.0                       0   \n",
       "4                  8550                       9.0                       0   \n",
       "\n",
       "   customer_education  customer_children  customer_relationship  \n",
       "0                 0.0                NaN                    NaN  \n",
       "1                 NaN             mature                 couple  \n",
       "2                 NaN                NaN                 single  \n",
       "3                 NaN                NaN                    NaN  \n",
       "4                 NaN             mature                 couple  \n",
       "\n",
       "[5 rows x 39 columns]"
      ]
     },
     "execution_count": 6,
     "metadata": {},
     "output_type": "execute_result"
    }
   ],
   "source": [
    "df['train_month_1'].head()"
   ]
  },
  {
   "cell_type": "code",
   "execution_count": 7,
   "id": "9d9ddcb1",
   "metadata": {},
   "outputs": [
    {
     "name": "stdout",
     "output_type": "stream",
     "text": [
      "Shape of dataframe: (63697, 116)\n"
     ]
    }
   ],
   "source": [
    "#Merge data (should be 39+38+39 columns = 118?, rows = 63697) with client_id as key\n",
    "df_merge = df['train_month_1'].merge(df['train_month_2'], on=['client_id'], how='outer')\n",
    "df_merge_2 = df_merge.merge(df['train_month_3_with_target'], on=['client_id'], how='outer')\n",
    "\n",
    "print(f\"Shape of dataframe: {df_merge_2.shape}\")\n",
    "\n",
    "#df_merge_2.columns[45] "
   ]
  },
  {
   "cell_type": "code",
   "execution_count": 8,
   "id": "7d04d218",
   "metadata": {},
   "outputs": [],
   "source": [
    "#Export merged data\n",
    "df_merge_2.to_csv(mypath + 'data_merged.csv', encoding='utf-8')"
   ]
  }
 ],
 "metadata": {
  "kernelspec": {
   "display_name": "Python 3 (ipykernel)",
   "language": "python",
   "name": "python3"
  },
  "language_info": {
   "codemirror_mode": {
    "name": "ipython",
    "version": 3
   },
   "file_extension": ".py",
   "mimetype": "text/x-python",
   "name": "python",
   "nbconvert_exporter": "python",
   "pygments_lexer": "ipython3",
   "version": "3.9.5"
  },
  "toc": {
   "base_numbering": 1,
   "nav_menu": {},
   "number_sections": true,
   "sideBar": true,
   "skip_h1_title": false,
   "title_cell": "Table of Contents",
   "title_sidebar": "Contents",
   "toc_cell": false,
   "toc_position": {},
   "toc_section_display": true,
   "toc_window_display": false
  },
  "varInspector": {
   "cols": {
    "lenName": 16,
    "lenType": 16,
    "lenVar": 40
   },
   "kernels_config": {
    "python": {
     "delete_cmd_postfix": "",
     "delete_cmd_prefix": "del ",
     "library": "var_list.py",
     "varRefreshCmd": "print(var_dic_list())"
    },
    "r": {
     "delete_cmd_postfix": ") ",
     "delete_cmd_prefix": "rm(",
     "library": "var_list.r",
     "varRefreshCmd": "cat(var_dic_list()) "
    }
   },
   "types_to_exclude": [
    "module",
    "function",
    "builtin_function_or_method",
    "instance",
    "_Feature"
   ],
   "window_display": false
  }
 },
 "nbformat": 4,
 "nbformat_minor": 5
}
