{
 "cells": [
  {
   "cell_type": "code",
   "execution_count": 1,
   "id": "84b31e74",
   "metadata": {},
   "outputs": [],
   "source": [
    "import pandas as pd\n",
    "import numpy as np\n",
    "import load_data\n",
    "from sklearn.model_selection import train_test_split\n",
    "\n",
    "pd.set_option('display.max_rows', 999)\n",
    "pd.set_option('display.max_columns', 999)"
   ]
  },
  {
   "cell_type": "code",
   "execution_count": 2,
   "id": "b591f081",
   "metadata": {},
   "outputs": [
    {
     "name": "stdout",
     "output_type": "stream",
     "text": [
      "file name: X_train_des\n",
      "file name: y_test_des\n",
      "file name: X_test_des\n",
      "file name: train_month_1\n",
      "file name: data_merged\n",
      "file name: train_month_2\n",
      "file name: test_month_1\n",
      "file name: test_month_3\n",
      "file name: test_month_2\n",
      "file name: y_train_des\n",
      "file name: train_month_3_with_target\n"
     ]
    }
   ],
   "source": [
    "#Load Data\n",
    "mypath = \"../data/\"\n",
    "mydata = load_data.get_file_names(mypath)\n",
    "data_files = load_data.load_copy_data(mydata, mypath)\n",
    "\n",
    "data = data_files['data_merged'].copy()"
   ]
  },
  {
   "cell_type": "code",
   "execution_count": 3,
   "id": "4896e55e",
   "metadata": {},
   "outputs": [],
   "source": [
    "#Construct test, train set\n",
    "X = data.drop('target',axis=1)\n",
    "y = data['target']\n",
    "\n",
    "X_train, X_val, y_train, y_val = train_test_split(X, y, test_size=0.2, random_state=0)"
   ]
  },
  {
   "cell_type": "code",
   "execution_count": 4,
   "id": "b74912e5",
   "metadata": {},
   "outputs": [],
   "source": [
    "# Pre-process individual columns\n",
    "\n",
    "# Change dates to inbetween years\n",
    "def dates_to_days(df, col_list, base_date = '2018-01-01'):\n",
    "    #Convert date columns into datetime format\n",
    "    df['base_dt'] = pd.to_datetime(base_date)\n",
    "    df[list_dates] = df[list_dates].apply(pd.to_datetime)\n",
    "\n",
    "    for col in list_dates:\n",
    "        df[col] = abs(df['base_dt'].dt.year - df[col].dt.year)\n",
    "\n",
    "    #Drop columns (base_dt)\n",
    "    df = df.drop('base_dt', axis=1)\n",
    "\n",
    "    return df\n",
    "\n",
    "# # Change Children Status to binary #Maybe just add NA as category\n",
    "# def change_children_status(df, col_list, replace_list):\n",
    "#     for col in col_list:\n",
    "#         df[col].replace(replace_list, 'yes', inplace=True)\n",
    "#         df[col].fillna('no', inplace=True)\n",
    "#     return df\n",
    "# children_list = ['customer_children', 'customer_children_y', 'customer_children_x']\n",
    "# replace_list = ['mature', 'young', 'onebaby', 'adolescent', 'preschool', 'grownup']\n",
    "\n",
    "\n",
    "# Categorize Area Code by 1000s\n",
    "def bin_area_code(df):\n",
    "    # Bin area codes by 1000s \n",
    "    labels = [\"{}_area_code\".format(i) for i in range(0, 10000, 1000)]\n",
    "    df['area_cat'] = pd.cut(df['customer_postal_code_x'], range(0, 10005, 1000), right=False, labels=labels)\n",
    "    \n",
    "    return df\n",
    "\n",
    "# Get % Change from time point 1 to 2, 2 to 3, 1 to 3\n",
    "def get_percent_change(df, col_list):\n",
    "\n",
    "    def percentage_change(col1,col2):\n",
    "        return ((col2 - col1) / col1) * 100\n",
    "\n",
    "    for col in col_list:\n",
    "        df['{}_1'.format(col[2])] = percentage_change(df[col[0]],df[col[1]]) \n",
    "        df['{}_2'.format(col[2])] = percentage_change(df[col[1]],df[col[2]]) \n",
    "        df['{}_3'.format(col[2])] = percentage_change(df[col[0]],df[col[2]]) \n",
    "\n",
    "        df['{}_1'.format(col[2])] = df['{}_1'.format(col[2])].fillna(0)\n",
    "        df['{}_2'.format(col[2])] = df['{}_2'.format(col[2])].fillna(0)\n",
    "        df['{}_3'.format(col[2])] = df['{}_3'.format(col[2])].fillna(0)    \n",
    "\n",
    "    return df\n",
    "\n",
    "    \n",
    "# Change NA to category\n",
    "def categorize_na(df, col_list):\n",
    "    for col in col_list:\n",
    "        df[col] = df[col].fillna(\"Unknown\")\n",
    "\n",
    "    return df\n",
    "    "
   ]
  },
  {
   "cell_type": "code",
   "execution_count": 5,
   "id": "87253d1a",
   "metadata": {},
   "outputs": [],
   "source": [
    "### Pre-process training data ###\n",
    "\n",
    "#1. Change dates to inbetween years\n",
    "list_dates = ['customer_since_all_x', 'customer_since_bank_x', 'customer_birth_date_x']\n",
    "X_train = dates_to_days(X_train, list_dates, base_date = '2018-01-01')\n",
    "\n",
    "#2. Categorize Area Code by 1000s\n",
    "X_train = bin_area_code(X_train)\n",
    "\n",
    "#3. Get % Change from time point 1 to 2, 2 to 3, 1 to 3\n",
    "list_balances = [['bal_insurance_21_x', 'bal_insurance_21_y', 'bal_insurance_21'],\n",
    "                 ['bal_insurance_23_x', 'bal_insurance_23_y', 'bal_insurance_23'],\n",
    "                 ['bal_personal_loan_x', 'bal_personal_loan_y', 'bal_personal_loan'],\n",
    "                 ['bal_mortgage_loan_x', 'bal_mortgage_loan_y', 'bal_mortgage_loan'],\n",
    "                 ['bal_current_account_x', 'bal_current_account_y', 'bal_current_account'],\n",
    "                 ['bal_pension_saving_x', 'bal_pension_saving_y', 'bal_pension_saving'],\n",
    "                 ['bal_savings_account_x', 'bal_savings_account_y', 'bal_savings_account'],\n",
    "                ]\n",
    "\n",
    "X_train = get_percent_change(X_train, list_balances)\n",
    "\n",
    "\n",
    "#4. Change NA to category\n",
    "col_list = ['customer_education_x', \n",
    "            'customer_children_x', 'customer_children_y', 'customer_children',\n",
    "            'customer_relationship_x', 'customer_relationship_y', 'customer_relationship',\n",
    "           ]\n",
    "\n",
    "X_train = categorize_na(X_train, col_list)"
   ]
  },
  {
   "cell_type": "code",
   "execution_count": 6,
   "id": "7c768bb7",
   "metadata": {},
   "outputs": [
    {
     "data": {
      "text/plain": [
       "array(['no', 'mature', 'grownup', 'Unknown', 'adolescent', 'preschool',\n",
       "       'young', 'onebaby', 'yes'], dtype=object)"
      ]
     },
     "execution_count": 6,
     "metadata": {},
     "output_type": "execute_result"
    }
   ],
   "source": [
    "# Check if pre-process went as intended...\n",
    "\n",
    "#1. Change dates to inbetween years\n",
    "#X_train['customer_since_all_x'].unique() #Changed to years inbetween\n",
    "# X_train['customer_since_bank_x'].unique()\n",
    "# X_train['customer_birth_date_x'].unique()\n",
    "\n",
    "#2. Categorize Area Code by 1000s\n",
    "# X_train['area_cat'].unique()\n",
    "\n",
    "#3. Get % Change from time point 1 to 2, 2 to 3, 1 to 3\n",
    "# print(X_train['bal_insurance_21_1'][43567])\n",
    "# print(X_train['bal_insurance_21_2'][43567])\n",
    "# print(X_train['bal_insurance_21_3'][43567])\n",
    "\n",
    "#4. Change NA to category\n",
    "X_train['customer_children_x'].unique()"
   ]
  },
  {
   "cell_type": "code",
   "execution_count": 7,
   "id": "d8a23ce7",
   "metadata": {},
   "outputs": [],
   "source": [
    "### Pre-process validation data ###\n",
    "\n",
    "#1. Change dates to inbetween years\n",
    "X_val = dates_to_days(X_val, list_dates, base_date = '2018-01-01')\n",
    "\n",
    "#2. Categorize Area Code by 1000s\n",
    "X_val = bin_area_code(X_val)\n",
    "\n",
    "#3. Get % Change from time point 1 to 2, 2 to 3, 1 to 3\n",
    "X_val = get_percent_change(X_val, list_balances)\n",
    "\n",
    "#4. Change NA to category\n",
    "X_val = categorize_na(X_val, col_list)"
   ]
  },
  {
   "cell_type": "code",
   "execution_count": 8,
   "id": "51d60636",
   "metadata": {},
   "outputs": [],
   "source": [
    "# Export X_train, X_val, y_train, y_val\n",
    "\n",
    "X_train.to_csv('../data/' + 'X_train.csv', encoding='utf-8')\n",
    "X_val.to_csv('../data/' + 'X_val.csv', encoding='utf-8')\n",
    "y_train.to_csv('../data/' + 'y_train.csv', encoding='utf-8')\n",
    "y_val.to_csv('../data/' + 'y_val.csv', encoding='utf-8')"
   ]
  }
 ],
 "metadata": {
  "kernelspec": {
   "display_name": "Python 3 (ipykernel)",
   "language": "python",
   "name": "python3"
  },
  "language_info": {
   "codemirror_mode": {
    "name": "ipython",
    "version": 3
   },
   "file_extension": ".py",
   "mimetype": "text/x-python",
   "name": "python",
   "nbconvert_exporter": "python",
   "pygments_lexer": "ipython3",
   "version": "3.9.5"
  },
  "toc": {
   "base_numbering": 1,
   "nav_menu": {},
   "number_sections": true,
   "sideBar": true,
   "skip_h1_title": false,
   "title_cell": "Table of Contents",
   "title_sidebar": "Contents",
   "toc_cell": false,
   "toc_position": {},
   "toc_section_display": true,
   "toc_window_display": false
  },
  "varInspector": {
   "cols": {
    "lenName": 16,
    "lenType": 16,
    "lenVar": 40
   },
   "kernels_config": {
    "python": {
     "delete_cmd_postfix": "",
     "delete_cmd_prefix": "del ",
     "library": "var_list.py",
     "varRefreshCmd": "print(var_dic_list())"
    },
    "r": {
     "delete_cmd_postfix": ") ",
     "delete_cmd_prefix": "rm(",
     "library": "var_list.r",
     "varRefreshCmd": "cat(var_dic_list()) "
    }
   },
   "types_to_exclude": [
    "module",
    "function",
    "builtin_function_or_method",
    "instance",
    "_Feature"
   ],
   "window_display": false
  }
 },
 "nbformat": 4,
 "nbformat_minor": 5
}
