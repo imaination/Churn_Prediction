{
 "cells": [
  {
   "cell_type": "code",
   "execution_count": 1,
   "id": "popular-junior",
   "metadata": {},
   "outputs": [],
   "source": [
    "#Import Libraries\n",
    "import pandas as pd\n",
    "import load_data\n",
    "import datetime\n",
    "from sklearn.model_selection import train_test_split\n",
    "\n",
    "pd.set_option('display.max_rows', 999)\n",
    "pd.set_option('display.max_columns', 999)"
   ]
  },
  {
   "cell_type": "code",
   "execution_count": 2,
   "id": "ee9ae972",
   "metadata": {},
   "outputs": [],
   "source": [
    "class Time: # change class name to Time\n",
    "    \n",
    "    \"\"\"Time stamp for code execution\"\"\"\n",
    "        \n",
    "    def get_current_time(self):\n",
    "        now = datetime.datetime.now()\n",
    "        return(now)\n",
    "    \n",
    "    def get_start_time(self):\n",
    "        # Start time\n",
    "        start_time = self.get_current_time()\n",
    "        return(start_time)\n",
    "       \n",
    "    def get_end_time(self):\n",
    "        # End time\n",
    "        end_time = self.get_current_time()\n",
    "        elapsed_time = end_time - self.get_start_time()\n",
    "        return(end_time, elapsed_time)\n",
    "        \n",
    "    def print_start(self):\n",
    "        print('--------Start Script--------')\n",
    "        print('--------Start Time: ' + self.get_start_time().strftime('%Y-%m-%d %H:%M:%S') + '-------\\n')\n",
    "\n",
    "    def print_end(self):\n",
    "        print('Total ' + str(self.get_end_time()[1].seconds) + ' [sec]')\n",
    "        print('-----End Time : ' + self.get_end_time()[0].strftime('%Y-%m-%d %H:%M:%S') + ' ---------')\n",
    "        print('-----END SCRIPT------') "
   ]
  },
  {
   "cell_type": "code",
   "execution_count": 3,
   "id": "979b5226",
   "metadata": {},
   "outputs": [],
   "source": [
    "def merge_df(left_df, right_df, merge_on, how, suffixes=(None,None)):\n",
    "        df_merge = left_df.merge(right_df, on=[merge_on], how=how, suffixes=suffixes)\n",
    "        print(f\"Shape of dataframe: {df_merge.shape}\")\n",
    "        return df_merge"
   ]
  },
  {
   "cell_type": "code",
   "execution_count": 4,
   "id": "5a07684c",
   "metadata": {},
   "outputs": [],
   "source": [
    "def main():\n",
    "    \n",
    "    time = Time()\n",
    "    time.print_start()\n",
    "\n",
    "    #Load Data\n",
    "    mypath = \"../data/\"\n",
    "    mydata = load_data.get_file_names(mypath)\n",
    "    df = load_data.load_copy_data(mydata, mypath)\n",
    "    #df.keys()\n",
    "\n",
    "    #Check dimension of data\n",
    "    print(f\"We have {df['train_month_1'].shape[0]} rows and {df['train_month_1'].shape[1]} columns in our month 1 training dataset.\")\n",
    "    print(f\"We have {df['train_month_2'].shape[0]} rows and {df['train_month_2'].shape[1]} columns in our month 2 training dataset.\")\n",
    "    print(f\"We have {df['train_month_3_with_target'].shape[0]} rows and {df['train_month_3_with_target'].shape[1]} columns in month 3 training dataset.\")\n",
    "\n",
    "    #Look for duplicated rows\n",
    "    print(f\"We have {df['train_month_1'].duplicated().sum()} duplicated rows in our month 1 training dataset.\")\n",
    "    print(f\"We have {df['train_month_2'].duplicated().sum()} duplicated rows in our month 2 training dataset.\")\n",
    "    print(f\"We have {df['train_month_3_with_target'].duplicated().sum()} duplicated rows in our month 3 training dataset.\")\n",
    "\n",
    "    #Look at a few rows..\n",
    "    #Merge data (should be 39+38+39 columns = 118?, rows = 63697) with client_id as key\n",
    "    df_merged = merge_df(df['train_month_1'], df['train_month_2'], 'client_id', 'outer', ('_m1', '_m2'))\n",
    "    df_merged = merge_df(df_merged, df['train_month_3_with_target'], 'client_id', 'outer')\n",
    "\n",
    "    #Export merged data\n",
    "    print(f'Export data to {mypath} as data_merged.csv')\n",
    "    df_merged.to_csv(mypath + 'data_merged.csv', encoding='utf-8', index=False)\n",
    "\n",
    "    time.print_end()"
   ]
  },
  {
   "cell_type": "code",
   "execution_count": 5,
   "id": "826efbdc",
   "metadata": {},
   "outputs": [
    {
     "name": "stdout",
     "output_type": "stream",
     "text": [
      "--------Start Script--------\n",
      "--------Start Time: 2022-04-05 15:15:17-------\n",
      "\n",
      "file name: train_month_1\n",
      "file name: train_month_2\n",
      "file name: test_month_1\n",
      "file name: test_month_3\n",
      "file name: test_month_2\n",
      "file name: train_month_3_with_target\n",
      "We have 63697 rows and 39 columns in our month 1 training dataset.\n",
      "We have 63697 rows and 39 columns in our month 2 training dataset.\n",
      "We have 63697 rows and 40 columns in month 3 training dataset.\n",
      "We have 0 duplicated rows in our month 1 training dataset.\n",
      "We have 0 duplicated rows in our month 2 training dataset.\n",
      "We have 0 duplicated rows in our month 3 training dataset.\n",
      "Shape of dataframe: (63697, 77)\n",
      "Shape of dataframe: (63697, 116)\n",
      "Export data to ../data/ as data_merged.csv\n",
      "Total 86399 [sec]\n",
      "-----End Time : 2022-04-05 15:15:20 ---------\n",
      "-----END SCRIPT------\n"
     ]
    }
   ],
   "source": [
    "if __name__ == '__main__':\n",
    "    main()"
   ]
  },
  {
   "cell_type": "code",
   "execution_count": null,
   "id": "f78187c2",
   "metadata": {},
   "outputs": [],
   "source": []
  }
 ],
 "metadata": {
  "kernelspec": {
   "display_name": "Python 3 (ipykernel)",
   "language": "python",
   "name": "python3"
  },
  "language_info": {
   "codemirror_mode": {
    "name": "ipython",
    "version": 3
   },
   "file_extension": ".py",
   "mimetype": "text/x-python",
   "name": "python",
   "nbconvert_exporter": "python",
   "pygments_lexer": "ipython3",
   "version": "3.9.5"
  },
  "toc": {
   "base_numbering": 1,
   "nav_menu": {},
   "number_sections": true,
   "sideBar": true,
   "skip_h1_title": false,
   "title_cell": "Table of Contents",
   "title_sidebar": "Contents",
   "toc_cell": false,
   "toc_position": {},
   "toc_section_display": true,
   "toc_window_display": false
  },
  "varInspector": {
   "cols": {
    "lenName": 16,
    "lenType": 16,
    "lenVar": 40
   },
   "kernels_config": {
    "python": {
     "delete_cmd_postfix": "",
     "delete_cmd_prefix": "del ",
     "library": "var_list.py",
     "varRefreshCmd": "print(var_dic_list())"
    },
    "r": {
     "delete_cmd_postfix": ") ",
     "delete_cmd_prefix": "rm(",
     "library": "var_list.r",
     "varRefreshCmd": "cat(var_dic_list()) "
    }
   },
   "types_to_exclude": [
    "module",
    "function",
    "builtin_function_or_method",
    "instance",
    "_Feature"
   ],
   "window_display": false
  }
 },
 "nbformat": 4,
 "nbformat_minor": 5
}
