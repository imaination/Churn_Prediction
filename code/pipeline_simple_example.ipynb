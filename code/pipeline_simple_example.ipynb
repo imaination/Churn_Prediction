{
 "cells": [
  {
   "cell_type": "code",
   "execution_count": null,
   "id": "ebb23d93",
   "metadata": {},
   "outputs": [],
   "source": [
    "#Load Libraries\n",
    "\n",
    "from sklearn.preprocessing import StandardScaler, OrdinalEncoder\n",
    "from sklearn.ensemble import RandomForestRegressor\n",
    "from sklearn.impute import SimpleImputer\n",
    "from sklearn.compose import ColumnTransformer\n",
    "from sklearn.pipeline import Pipeline\n",
    "from sklearn.metrics import r2_score\n",
    "import pandas as pd"
   ]
  },
  {
   "cell_type": "code",
   "execution_count": null,
   "id": "03aad268",
   "metadata": {},
   "outputs": [],
   "source": [
    "#Make dataset\n",
    "\n",
    "t_data = {'product_name': ['laptop', 'printer', 'tablet', 'desk', 'chair'],\n",
    "        'price': [1200, np.nan, 300, 450, 200],\n",
    "          #'price': [1200, 100, 300, 450, 200],\n",
    "          'pred':[0, 1, 2, 3, 4],\n",
    "          'drop': [1, 1, 1, 1, 1],\n",
    "          'cat': ['yes', 'no', 'yes', 'yes', 'no']\n",
    "        }\n",
    "\n",
    "test = pd.DataFrame(t_data)\n",
    "\n",
    "print (test)"
   ]
  },
  {
   "cell_type": "code",
   "execution_count": null,
   "id": "66179145",
   "metadata": {},
   "outputs": [],
   "source": [
    "#Separate data into X (features), y (target)\n",
    "x_t = test.drop('pred', axis=1)\n",
    "y_t = test['pred']"
   ]
  },
  {
   "cell_type": "code",
   "execution_count": null,
   "id": "9afdd91f",
   "metadata": {},
   "outputs": [],
   "source": [
    "#Construct pipeline for numeric and categorical transformers\n",
    "\n",
    "numeric_transformer = Pipeline(steps=[\n",
    "       ('imputer', SimpleImputer(strategy='mean'))\n",
    "      ,('scaler', StandardScaler())\n",
    "])\n",
    "categorical_transformer = Pipeline(steps=[\n",
    "       ('imputer', SimpleImputer(strategy='most_frequent'))\n",
    "      ,('encoder', OrdinalEncoder())\n",
    "])"
   ]
  },
  {
   "cell_type": "code",
   "execution_count": null,
   "id": "729f4b29",
   "metadata": {},
   "outputs": [],
   "source": [
    "#Construct Preprocessors\n",
    "\n",
    "numeric_features = ['price']\n",
    "categorical_features = ['product_name', 'cat']\n",
    "preprocessor = ColumnTransformer(\n",
    "   transformers=[\n",
    "    ('numeric', numeric_transformer, numeric_features)\n",
    "   ,('categorical', categorical_transformer, categorical_features)\n",
    "]) "
   ]
  },
  {
   "cell_type": "code",
   "execution_count": null,
   "id": "91bf51cd",
   "metadata": {},
   "outputs": [],
   "source": [
    "#Construct main pipline to model \n",
    "\n",
    "pipeline = Pipeline(steps = [\n",
    "               ('preprocessor', preprocessor)\n",
    "              ,('regressor',RandomForestRegressor())\n",
    "           ])"
   ]
  },
  {
   "cell_type": "code",
   "execution_count": null,
   "id": "90028705",
   "metadata": {},
   "outputs": [],
   "source": [
    "model_1 = pipeline.fit(x_t, y_t)\n",
    "print (model)"
   ]
  },
  {
   "cell_type": "code",
   "execution_count": null,
   "id": "1f2e4a9a",
   "metadata": {},
   "outputs": [],
   "source": [
    "predictions = model_1.predict(x_t)\n",
    "print (r2_score(y_t, predictions)) #y_t is not a test set but just to see if code is working"
   ]
  }
 ],
 "metadata": {
  "kernelspec": {
   "display_name": "Python 3 (ipykernel)",
   "language": "python",
   "name": "python3"
  },
  "language_info": {
   "codemirror_mode": {
    "name": "ipython",
    "version": 3
   },
   "file_extension": ".py",
   "mimetype": "text/x-python",
   "name": "python",
   "nbconvert_exporter": "python",
   "pygments_lexer": "ipython3",
   "version": "3.9.5"
  },
  "toc": {
   "base_numbering": 1,
   "nav_menu": {},
   "number_sections": true,
   "sideBar": true,
   "skip_h1_title": false,
   "title_cell": "Table of Contents",
   "title_sidebar": "Contents",
   "toc_cell": false,
   "toc_position": {},
   "toc_section_display": true,
   "toc_window_display": false
  },
  "varInspector": {
   "cols": {
    "lenName": 16,
    "lenType": 16,
    "lenVar": 40
   },
   "kernels_config": {
    "python": {
     "delete_cmd_postfix": "",
     "delete_cmd_prefix": "del ",
     "library": "var_list.py",
     "varRefreshCmd": "print(var_dic_list())"
    },
    "r": {
     "delete_cmd_postfix": ") ",
     "delete_cmd_prefix": "rm(",
     "library": "var_list.r",
     "varRefreshCmd": "cat(var_dic_list()) "
    }
   },
   "types_to_exclude": [
    "module",
    "function",
    "builtin_function_or_method",
    "instance",
    "_Feature"
   ],
   "window_display": false
  }
 },
 "nbformat": 4,
 "nbformat_minor": 5
}
